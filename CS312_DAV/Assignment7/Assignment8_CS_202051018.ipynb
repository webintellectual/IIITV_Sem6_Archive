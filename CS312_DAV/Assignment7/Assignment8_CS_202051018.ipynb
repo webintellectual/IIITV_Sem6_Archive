{
 "cells": [
  {
   "attachments": {},
   "cell_type": "markdown",
   "metadata": {},
   "source": [
    "## AKSHAY | 202051018\n",
    "## Assignment 7\n",
    "## CS/IT 312 : Data Analytics and Visualization"
   ]
  },
  {
   "cell_type": "code",
   "execution_count": 21,
   "metadata": {},
   "outputs": [],
   "source": [
    "import pandas as pd\n",
    "import numpy as np\n",
    "from sklearn.model_selection import StratifiedShuffleSplit\n",
    "import seaborn as sns"
   ]
  },
  {
   "cell_type": "code",
   "execution_count": 22,
   "metadata": {},
   "outputs": [
    {
     "name": "stdout",
     "output_type": "stream",
     "text": [
      "Population mean:  66.368\n",
      "      Gender     Height      Weight\n",
      "0       Male  73.847017  241.893563\n",
      "1       Male  68.781904  162.310473\n",
      "2       Male  74.110105  212.740856\n",
      "3       Male  71.730978  220.042470\n",
      "4       Male  69.881796  206.349801\n",
      "...      ...        ...         ...\n",
      "9995  Female  66.172652  136.777454\n",
      "9996  Female  67.067155  170.867906\n",
      "9997  Female  63.867992  128.475319\n",
      "9998  Female  69.034243  163.852461\n",
      "9999  Female  61.944246  113.649103\n",
      "\n",
      "[10000 rows x 3 columns]\n"
     ]
    }
   ],
   "source": [
    "data=pd.read_csv(\"weight-height.csv\")\n",
    "population_mean = round(data['Height'].mean(),3)\n",
    "print(\"Population mean: \", population_mean)\n",
    "print(data)"
   ]
  },
  {
   "attachments": {},
   "cell_type": "markdown",
   "metadata": {},
   "source": [
    "1. Perform Random Sampling by choosing 1000 samples from data. Compute the sample mean and population mean (from whole data) and then compute the error between both mean."
   ]
  },
  {
   "cell_type": "code",
   "execution_count": 23,
   "metadata": {},
   "outputs": [
    {
     "name": "stdout",
     "output_type": "stream",
     "text": [
      "      Gender     Height      Weight\n",
      "10      Male  71.195382  186.604926\n",
      "18      Male  69.640060  185.983958\n",
      "35      Male  70.400929  192.903515\n",
      "37      Male  67.193523  183.810973\n",
      "43      Male  66.090177  161.193433\n",
      "...      ...        ...         ...\n",
      "9982  Female  69.868511  177.992066\n",
      "9983  Female  65.830726  132.827889\n",
      "9989  Female  60.955084   95.686674\n",
      "9991  Female  62.636675  102.853563\n",
      "9999  Female  61.944246  113.649103\n",
      "\n",
      "[1000 rows x 3 columns]\n"
     ]
    }
   ],
   "source": [
    "simple_random_sample = data.sample(n=1000).sort_index()\n",
    "print(simple_random_sample)"
   ]
  },
  {
   "cell_type": "code",
   "execution_count": 24,
   "metadata": {},
   "outputs": [
    {
     "name": "stdout",
     "output_type": "stream",
     "text": [
      "Sample mean:  66.27\n"
     ]
    }
   ],
   "source": [
    "simple_random_mean = round(simple_random_sample['Height'].mean(),3)\n",
    "print(\"Sample mean: \", simple_random_mean)"
   ]
  },
  {
   "cell_type": "code",
   "execution_count": 25,
   "metadata": {},
   "outputs": [
    {
     "name": "stdout",
     "output_type": "stream",
     "text": [
      "Random Sampling Error:  0.09799999999999898\n"
     ]
    }
   ],
   "source": [
    "simple_random_sample_error = abs(population_mean-simple_random_mean)\n",
    "print(\"Random Sampling Error: \", simple_random_sample_error)"
   ]
  },
  {
   "attachments": {},
   "cell_type": "markdown",
   "metadata": {},
   "source": [
    "2. Perform Systematic Sampling by choosing 1000 samples from data. Compute the sample mean and population mean (from whole data) and then compute the error between both mean."
   ]
  },
  {
   "cell_type": "code",
   "execution_count": 26,
   "metadata": {},
   "outputs": [
    {
     "name": "stdout",
     "output_type": "stream",
     "text": [
      "Systematic sample size:  1000\n",
      "      Gender     Height      Weight\n",
      "0       Male  73.847017  241.893563\n",
      "10      Male  71.195382  186.604926\n",
      "20      Male  67.915050  174.115929\n",
      "30      Male  68.618111  187.506843\n",
      "40      Male  67.974336  172.135597\n",
      "...      ...        ...         ...\n",
      "9950  Female  61.110725  123.386296\n",
      "9960  Female  65.215792  150.646650\n",
      "9970  Female  65.618737  151.500389\n",
      "9980  Female  60.472262  110.768229\n",
      "9990  Female  63.179498  141.266100\n",
      "\n",
      "[1000 rows x 3 columns]\n"
     ]
    }
   ],
   "source": [
    "def systematic_sampling(df, step):\n",
    "    \n",
    "    indexes = np.arange(0,len(df),step=step)\n",
    "    systematic_sample = df.iloc[indexes]\n",
    "    return systematic_sample\n",
    "    \n",
    "# Obtain a systematic sample and save it in a new variable\n",
    "systematic_sample = systematic_sampling(data, 10)\n",
    "print(\"Systematic sample size: \", len(systematic_sample))\n",
    "print(systematic_sample)"
   ]
  },
  {
   "cell_type": "code",
   "execution_count": 27,
   "metadata": {},
   "outputs": [
    {
     "name": "stdout",
     "output_type": "stream",
     "text": [
      "Systematic sample mean:  66.426\n"
     ]
    }
   ],
   "source": [
    "# Save the sample mean in a separate variable\n",
    "systematic_mean = round(systematic_sample['Height'].mean(),3)\n",
    "print(\"Systematic sample mean: \", systematic_mean)"
   ]
  },
  {
   "cell_type": "code",
   "execution_count": 28,
   "metadata": {},
   "outputs": [
    {
     "name": "stdout",
     "output_type": "stream",
     "text": [
      "Systematic Sampling Error:  0.058000000000006935\n"
     ]
    }
   ],
   "source": [
    "systematic_sample_error = abs(population_mean-systematic_mean)\n",
    "print(\"Systematic Sampling Error: \", systematic_sample_error)"
   ]
  },
  {
   "attachments": {},
   "cell_type": "markdown",
   "metadata": {},
   "source": [
    "3. Perform Stratified Sampling by choosing 1000 samples from data. Compute the sample mean and population mean (from whole data) and then compute the error between both mean."
   ]
  },
  {
   "cell_type": "code",
   "execution_count": 29,
   "metadata": {},
   "outputs": [
    {
     "name": "stdout",
     "output_type": "stream",
     "text": [
      "Sample size:  1000\n",
      "      Gender     Height      Weight\n",
      "2807    Male  67.966406  186.606552\n",
      "6655  Female  63.422647  138.427956\n",
      "5295  Female  60.807712  117.183532\n",
      "212     Male  72.394480  208.436509\n",
      "7574  Female  63.533539  130.429149\n",
      "...      ...        ...         ...\n",
      "2690    Male  63.230812  164.502235\n",
      "1657    Male  71.574723  207.816944\n",
      "6734  Female  64.665242  145.979477\n",
      "1172    Male  71.692766  191.902096\n",
      "1801    Male  65.838169  164.988986\n",
      "\n",
      "[1000 rows x 3 columns]\n"
     ]
    }
   ],
   "source": [
    "# Set the split criteria\n",
    "split = StratifiedShuffleSplit(n_splits=1, test_size=1000)\n",
    "\n",
    "\n",
    "# Perform data frame split\n",
    "for x, y in split.split(data, data['Gender']):\n",
    "    stratified_random_sample = data.iloc[y]\n",
    "\n",
    "# View sampled data frame\n",
    "print(\"Sample size: \", len(stratified_random_sample))\n",
    "print(stratified_random_sample)"
   ]
  },
  {
   "cell_type": "code",
   "execution_count": 30,
   "metadata": {},
   "outputs": [
    {
     "name": "stdout",
     "output_type": "stream",
     "text": [
      "66.552\n",
      "      Gender     Height      Weight\n",
      "2807    Male  67.966406  186.606552\n",
      "6655  Female  63.422647  138.427956\n",
      "5295  Female  60.807712  117.183532\n",
      "212     Male  72.394480  208.436509\n",
      "7574  Female  63.533539  130.429149\n",
      "...      ...        ...         ...\n",
      "2690    Male  63.230812  164.502235\n",
      "1657    Male  71.574723  207.816944\n",
      "6734  Female  64.665242  145.979477\n",
      "1172    Male  71.692766  191.902096\n",
      "1801    Male  65.838169  164.988986\n",
      "\n",
      "[1000 rows x 3 columns]\n"
     ]
    }
   ],
   "source": [
    "stratified_random_sample_mean = round(stratified_random_sample['Height'].mean(),3)\n",
    "print(stratified_random_sample_mean)\n",
    "\n",
    "# Obtain the sample mean for each group\n",
    "stratified_random_sample.groupby(\"Gender\").mean()\n",
    "print(stratified_random_sample)"
   ]
  },
  {
   "cell_type": "code",
   "execution_count": 31,
   "metadata": {},
   "outputs": [
    {
     "name": "stdout",
     "output_type": "stream",
     "text": [
      "Stratified Sampling Error:  0.1840000000000117\n"
     ]
    }
   ],
   "source": [
    "stratified_random_sample_error = abs(population_mean-stratified_random_sample_mean)\n",
    "print(\"Stratified Sampling Error: \", stratified_random_sample_error)"
   ]
  }
 ],
 "metadata": {
  "kernelspec": {
   "display_name": "Python 3",
   "language": "python",
   "name": "python3"
  },
  "language_info": {
   "codemirror_mode": {
    "name": "ipython",
    "version": 3
   },
   "file_extension": ".py",
   "mimetype": "text/x-python",
   "name": "python",
   "nbconvert_exporter": "python",
   "pygments_lexer": "ipython3",
   "version": "3.9.6"
  },
  "orig_nbformat": 4
 },
 "nbformat": 4,
 "nbformat_minor": 2
}
