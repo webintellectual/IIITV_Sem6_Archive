{
 "cells": [
  {
   "cell_type": "code",
   "execution_count": 1,
   "metadata": {},
   "outputs": [],
   "source": [
    "import pandas as pd\n",
    "import numpy as np\n",
    "import matplotlib.pyplot as plt\n",
    "import math"
   ]
  },
  {
   "cell_type": "code",
   "execution_count": 2,
   "metadata": {},
   "outputs": [],
   "source": [
    "data = pd.read_csv('Islander_data.csv')"
   ]
  },
  {
   "attachments": {},
   "cell_type": "markdown",
   "metadata": {},
   "source": [
    "Q1."
   ]
  },
  {
   "cell_type": "code",
   "execution_count": 4,
   "metadata": {},
   "outputs": [
    {
     "name": "stdout",
     "output_type": "stream",
     "text": [
      "Correlation between Age and Diff:  -0.009293328126756118\n"
     ]
    }
   ],
   "source": [
    "corr = data['age'].corr(data['Diff'])\n",
    "print(\"Correlation between Age and Diff: \", corr)"
   ]
  },
  {
   "attachments": {},
   "cell_type": "markdown",
   "metadata": {},
   "source": [
    "Q2."
   ]
  },
  {
   "cell_type": "code",
   "execution_count": 5,
   "metadata": {},
   "outputs": [
    {
     "name": "stdout",
     "output_type": "stream",
     "text": [
      "The standard error is 0.5035511011254911\n"
     ]
    }
   ],
   "source": [
    "n_samples = 10000\n",
    "sample_size = 20\n",
    "metric = 'mean'\n",
    "\n",
    "\n",
    "sample_means = np.zeros(n_samples)\n",
    "\n",
    "\n",
    "for i in range(n_samples):\n",
    "    samples = np.random.choice(data['Diff'], size=sample_size, replace=False)\n",
    "    sample_means[i] = np.mean(samples)\n",
    "\n",
    "\n",
    "mean_sample_means = np.mean(sample_means)\n",
    "std_sample_means = np.std(sample_means, ddof=1)\n",
    "\n",
    "\n",
    "std_error = std_sample_means / np.sqrt(sample_size)\n",
    "\n",
    "\n",
    "print(f\"The standard error is {std_error}\")"
   ]
  },
  {
   "attachments": {},
   "cell_type": "markdown",
   "metadata": {},
   "source": [
    "Q3."
   ]
  },
  {
   "cell_type": "code",
   "execution_count": 6,
   "metadata": {},
   "outputs": [
    {
     "name": "stdout",
     "output_type": "stream",
     "text": [
      "Lower Limit:  -1.5699999999999998\n",
      "Upper Limit:  7.865124999999998\n"
     ]
    }
   ],
   "source": [
    "number_of_samples = 10000\n",
    "size_of_sample = 20\n",
    "\n",
    "bootstrap_sample_means = np.empty(number_of_samples)\n",
    "\n",
    "for i in range(number_of_samples):\n",
    "    bootstrap_sample = np.random.choice(data['Diff'], size=size_of_sample, replace=True)\n",
    "    bootstrap_sample_means[i] = np.mean(bootstrap_sample)\n",
    "\n",
    "confidence_interval = np.percentile(bootstrap_sample_means, [2.5, 97.5])\n",
    "lower_limit, upper_limit = confidence_interval\n",
    "\n",
    "print(\"Lower Limit: \", lower_limit)\n",
    "print(\"Upper Limit: \", upper_limit)\n"
   ]
  },
  {
   "attachments": {},
   "cell_type": "markdown",
   "metadata": {},
   "source": [
    "Q4."
   ]
  },
  {
   "cell_type": "code",
   "execution_count": 7,
   "metadata": {},
   "outputs": [],
   "source": [
    "contingency_table = pd.crosstab(data['Happy_Sad_group'], data['Drug'])\n"
   ]
  },
  {
   "cell_type": "code",
   "execution_count": 8,
   "metadata": {},
   "outputs": [
    {
     "name": "stdout",
     "output_type": "stream",
     "text": [
      "34\n"
     ]
    }
   ],
   "source": [
    "count = contingency_table.loc['S', 'A']\n",
    "print(count)"
   ]
  },
  {
   "attachments": {},
   "cell_type": "markdown",
   "metadata": {},
   "source": [
    "Q5."
   ]
  },
  {
   "cell_type": "code",
   "execution_count": 9,
   "metadata": {},
   "outputs": [
    {
     "name": "stdout",
     "output_type": "stream",
     "text": [
      "Chi-square value: 0.030309988518943745\n",
      "p-value: 0.9849592647396563\n"
     ]
    }
   ],
   "source": [
    "from scipy.stats import chi2_contingency\n",
    "\n",
    "chi2_stat, p_value, dof, expected_freqs = chi2_contingency(contingency_table)\n",
    "\n",
    "print(\"Chi-square value:\", chi2_stat)\n",
    "print(\"p-value:\", p_value)\n"
   ]
  },
  {
   "cell_type": "code",
   "execution_count": 10,
   "metadata": {},
   "outputs": [
    {
     "name": "stdout",
     "output_type": "stream",
     "text": [
      "1.0152692532586\n"
     ]
    }
   ],
   "source": [
    "print(chi2_stat + p_value)"
   ]
  },
  {
   "attachments": {},
   "cell_type": "markdown",
   "metadata": {},
   "source": [
    "Q6."
   ]
  },
  {
   "cell_type": "code",
   "execution_count": 11,
   "metadata": {},
   "outputs": [
    {
     "name": "stdout",
     "output_type": "stream",
     "text": [
      "The Pearson residual for Happy (H) subjects who are given drug T is 0.151338733895512\n"
     ]
    }
   ],
   "source": [
    "row_totals = contingency_table.sum(axis=1)\n",
    "col_totals = contingency_table.sum(axis=0)\n",
    "total = contingency_table.sum().sum()\n",
    "expected_frequencies = np.outer(row_totals, col_totals) / total\n",
    "\n",
    "\n",
    "observed = contingency_table.loc['H', 'T']\n",
    "expected = expected_frequencies[0, 2]\n",
    "pearson_residual = (observed - expected) / np.sqrt(expected * (1 - col_totals[2] / total) * (1 - row_totals[0] / total))\n",
    "\n",
    "\n",
    "print(f\"The Pearson residual for Happy (H) subjects who are given drug T is {pearson_residual}\")"
   ]
  },
  {
   "attachments": {},
   "cell_type": "markdown",
   "metadata": {},
   "source": [
    "Q7."
   ]
  },
  {
   "cell_type": "code",
   "execution_count": 12,
   "metadata": {},
   "outputs": [
    {
     "name": "stdout",
     "output_type": "stream",
     "text": [
      "The p-value is 1.0\n"
     ]
    }
   ],
   "source": [
    "def chi_squared_permutation_test(contingency_table, num_permutations=10000):\n",
    "    observed_chi2, _, _, _ = chi2_contingency(contingency_table)\n",
    "\n",
    "\n",
    "    chi2_permutations = []\n",
    "    for i in range(num_permutations):\n",
    "        shuffled_labels = np.random.permutation(data[\"Happy_Sad_group\"])\n",
    "        shuffled_table = pd.crosstab(shuffled_labels, data[\"Drug\"])\n",
    "        chi2, _, _, _ = chi2_contingency(shuffled_table)\n",
    "        chi2_permutations.append(chi2)\n",
    "    p_value = (np.sum(chi2_permutations >= observed_chi2) ) / (num_permutations )\n",
    "\n",
    "\n",
    "    return observed_chi2, p_value\n",
    "\n",
    "\n",
    "observed_chi2, p_value = chi_squared_permutation_test(contingency_table, num_permutations=10000)\n",
    "print(f\"The p-value is {p_value}\")"
   ]
  }
 ],
 "metadata": {
  "kernelspec": {
   "display_name": "Python 3",
   "language": "python",
   "name": "python3"
  },
  "language_info": {
   "codemirror_mode": {
    "name": "ipython",
    "version": 3
   },
   "file_extension": ".py",
   "mimetype": "text/x-python",
   "name": "python",
   "nbconvert_exporter": "python",
   "pygments_lexer": "ipython3",
   "version": "3.9.6"
  },
  "orig_nbformat": 4
 },
 "nbformat": 4,
 "nbformat_minor": 2
}
