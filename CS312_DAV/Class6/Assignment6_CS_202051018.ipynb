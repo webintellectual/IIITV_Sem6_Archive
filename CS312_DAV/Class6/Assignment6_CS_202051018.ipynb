{
 "cells": [
  {
   "attachments": {},
   "cell_type": "markdown",
   "metadata": {},
   "source": [
    "# Author © : Akshay | 202051018"
   ]
  },
  {
   "attachments": {},
   "cell_type": "markdown",
   "metadata": {},
   "source": [
    "Data Analytics & Visualisation | Assignment 6"
   ]
  },
  {
   "cell_type": "code",
   "execution_count": 69,
   "metadata": {},
   "outputs": [],
   "source": [
    "import pandas as pd\n",
    "import seaborn as sns\n",
    "import math"
   ]
  },
  {
   "attachments": {},
   "cell_type": "markdown",
   "metadata": {},
   "source": [
    "Loading Dataset"
   ]
  },
  {
   "cell_type": "code",
   "execution_count": 70,
   "metadata": {},
   "outputs": [
    {
     "name": "stdout",
     "output_type": "stream",
     "text": [
      "                    Country Name Country Code  \\\n",
      "0                          Aruba          ABW   \n",
      "1    Africa Eastern and Southern          AFE   \n",
      "2                    Afghanistan          AFG   \n",
      "3     Africa Western and Central          AFW   \n",
      "4                         Angola          AGO   \n",
      "..                           ...          ...   \n",
      "261                       Kosovo          XKX   \n",
      "262                  Yemen, Rep.          YEM   \n",
      "263                 South Africa          ZAF   \n",
      "264                       Zambia          ZMB   \n",
      "265                     Zimbabwe          ZWE   \n",
      "\n",
      "                                        Indicator Name     Indicator Code  \\\n",
      "0    Primary completion rate, female (% of relevant...  SE.PRM.CMPT.FE.ZS   \n",
      "1    Primary completion rate, female (% of relevant...  SE.PRM.CMPT.FE.ZS   \n",
      "2    Primary completion rate, female (% of relevant...  SE.PRM.CMPT.FE.ZS   \n",
      "3    Primary completion rate, female (% of relevant...  SE.PRM.CMPT.FE.ZS   \n",
      "4    Primary completion rate, female (% of relevant...  SE.PRM.CMPT.FE.ZS   \n",
      "..                                                 ...                ...   \n",
      "261  Primary completion rate, female (% of relevant...  SE.PRM.CMPT.FE.ZS   \n",
      "262  Primary completion rate, female (% of relevant...  SE.PRM.CMPT.FE.ZS   \n",
      "263  Primary completion rate, female (% of relevant...  SE.PRM.CMPT.FE.ZS   \n",
      "264  Primary completion rate, female (% of relevant...  SE.PRM.CMPT.FE.ZS   \n",
      "265  Primary completion rate, female (% of relevant...  SE.PRM.CMPT.FE.ZS   \n",
      "\n",
      "     1960  1961  1962  1963  1964  1965  ...        2013        2014  \\\n",
      "0     NaN   NaN   NaN   NaN   NaN   NaN  ...  101.255234  101.555870   \n",
      "1     NaN   NaN   NaN   NaN   NaN   NaN  ...   66.028069   66.263290   \n",
      "2     NaN   NaN   NaN   NaN   NaN   NaN  ...         NaN         NaN   \n",
      "3     NaN   NaN   NaN   NaN   NaN   NaN  ...   64.063690   64.651100   \n",
      "4     NaN   NaN   NaN   NaN   NaN   NaN  ...         NaN         NaN   \n",
      "..    ...   ...   ...   ...   ...   ...  ...         ...         ...   \n",
      "261   NaN   NaN   NaN   NaN   NaN   NaN  ...         NaN         NaN   \n",
      "262   NaN   NaN   NaN   NaN   NaN   NaN  ...   61.386909         NaN   \n",
      "263   NaN   NaN   NaN   NaN   NaN   NaN  ...         NaN         NaN   \n",
      "264   NaN   NaN   NaN   NaN   NaN   NaN  ...   78.582474         NaN   \n",
      "265   NaN   NaN   NaN   NaN   NaN   NaN  ...   98.854950   97.411469   \n",
      "\n",
      "           2015       2016       2017       2018       2019       2020  \\\n",
      "0           NaN        NaN        NaN        NaN        NaN        NaN   \n",
      "1     66.115013  66.932449  68.167793  69.499100  69.990547  70.825378   \n",
      "2           NaN  63.604069  66.688881  67.129303  65.761513        NaN   \n",
      "3     65.822060  66.608093  66.362289  66.722878  66.927361  67.231689   \n",
      "4           NaN        NaN        NaN        NaN        NaN        NaN   \n",
      "..          ...        ...        ...        ...        ...        ...   \n",
      "261         NaN        NaN        NaN        NaN        NaN        NaN   \n",
      "262         NaN  64.500092        NaN        NaN        NaN        NaN   \n",
      "263   89.105278  88.068489        NaN  92.124298  93.236481        NaN   \n",
      "264         NaN        NaN        NaN        NaN        NaN        NaN   \n",
      "265  100.912598  99.207138  96.014954  93.238541  89.320374  90.902550   \n",
      "\n",
      "          2021  Unnamed: 66  \n",
      "0          NaN          NaN  \n",
      "1          NaN          NaN  \n",
      "2          NaN          NaN  \n",
      "3          NaN          NaN  \n",
      "4          NaN          NaN  \n",
      "..         ...          ...  \n",
      "261        NaN          NaN  \n",
      "262        NaN          NaN  \n",
      "263        NaN          NaN  \n",
      "264        NaN          NaN  \n",
      "265  86.107933          NaN  \n",
      "\n",
      "[266 rows x 67 columns]\n"
     ]
    }
   ],
   "source": [
    "data1 = pd.read_csv(\"primary_completion_rate_female.csv\", skiprows=4)\n",
    "df1 = data1.copy()\n",
    "print(df1)"
   ]
  },
  {
   "cell_type": "code",
   "execution_count": 71,
   "metadata": {},
   "outputs": [
    {
     "name": "stdout",
     "output_type": "stream",
     "text": [
      "                    Country Name Country Code      Indicator Name  \\\n",
      "0                          Aruba          ABW  Population, female   \n",
      "1    Africa Eastern and Southern          AFE  Population, female   \n",
      "2                    Afghanistan          AFG  Population, female   \n",
      "3     Africa Western and Central          AFW  Population, female   \n",
      "4                         Angola          AGO  Population, female   \n",
      "..                           ...          ...                 ...   \n",
      "261                       Kosovo          XKX  Population, female   \n",
      "262                  Yemen, Rep.          YEM  Population, female   \n",
      "263                 South Africa          ZAF  Population, female   \n",
      "264                       Zambia          ZMB  Population, female   \n",
      "265                     Zimbabwe          ZWE  Population, female   \n",
      "\n",
      "        Indicator Code        1960        1961        1962        1963  \\\n",
      "0    SP.POP.TOTL.FE.IN     27773.0     28380.0     28820.0     29218.0   \n",
      "1    SP.POP.TOTL.FE.IN  65853220.0  67606287.0  69457112.0  71375643.0   \n",
      "2    SP.POP.TOTL.FE.IN   4145945.0   4233771.0   4326881.0   4424511.0   \n",
      "3    SP.POP.TOTL.FE.IN  48802898.0  49850088.0  50928609.0  52044907.0   \n",
      "4    SP.POP.TOTL.FE.IN   2670229.0   2704394.0   2742689.0   2779473.0   \n",
      "..                 ...         ...         ...         ...         ...   \n",
      "261  SP.POP.TOTL.FE.IN    466471.0    475714.0    489406.0    503107.0   \n",
      "262  SP.POP.TOTL.FE.IN   2776227.0   2830873.0   2887401.0   2944847.0   \n",
      "263  SP.POP.TOTL.FE.IN   8017980.0   8263745.0   8532023.0   8813888.0   \n",
      "264  SP.POP.TOTL.FE.IN   1574966.0   1626102.0   1679256.0   1734441.0   \n",
      "265  SP.POP.TOTL.FE.IN   1922334.0   1983717.0   2047197.0   2112858.0   \n",
      "\n",
      "           1964        1965  ...         2013         2014         2015  \\\n",
      "0       29570.0     29875.0  ...      53953.0      54403.0      54828.0   \n",
      "1    73386167.0  75478396.0  ...  287224786.0  295088995.0  303195759.0   \n",
      "2     4526691.0   4634341.0  ...   15594637.0   16172321.0   16682054.0   \n",
      "3    53196730.0  54389295.0  ...  192900081.0  198163527.0  203513873.0   \n",
      "4     2812590.0   2838939.0  ...   13252938.0   13746371.0   14248799.0   \n",
      "..          ...         ...  ...          ...          ...          ...   \n",
      "261    516803.0    530503.0  ...     910703.0     908173.0     896017.0   \n",
      "262   3005276.0   3069773.0  ...   13323201.0   13700388.0   14077389.0   \n",
      "263   9107018.0   9412255.0  ...   27837495.0   28228865.0   28721087.0   \n",
      "264   1791447.0   1850435.0  ...    7743342.0    7993413.0    8247891.0   \n",
      "265   2180688.0   2250818.0  ...    7192279.0    7347527.0    7502101.0   \n",
      "\n",
      "            2016         2017         2018         2019         2020  \\\n",
      "0        55224.0      55591.0      55935.0      56254.0      56373.0   \n",
      "1    311387262.0  319637226.0  328158974.0  336930831.0  345889729.0   \n",
      "2     17115346.0   17614722.0   18136922.0   18679089.0   19279930.0   \n",
      "3    208980433.0  214578994.0  220253839.0  226004857.0  231877590.0   \n",
      "4     14764575.0   15293335.0   15828040.0   16370553.0   16910989.0   \n",
      "..           ...          ...          ...          ...          ...   \n",
      "261     890797.0     897635.0     900766.0     896722.0     897541.0   \n",
      "262   14453847.0   14831892.0   15211556.0   15593113.0   15963067.0   \n",
      "263   29004108.0   29175940.0   29517286.0   29879107.0   30221143.0   \n",
      "264    8507289.0    8772120.0    9041177.0    9314079.0    9589102.0   \n",
      "265    7656047.0    7810471.0    7966181.0    8122618.0    8284447.0   \n",
      "\n",
      "            2021  Unnamed: 66  \n",
      "0        56330.0          NaN  \n",
      "1    354855082.0          NaN  \n",
      "2     19844584.0          NaN  \n",
      "3    237813580.0          NaN  \n",
      "4     17452283.0          NaN  \n",
      "..           ...          ...  \n",
      "261     895801.0          NaN  \n",
      "262   16313210.0          NaN  \n",
      "263   30497646.0          NaN  \n",
      "264    9864121.0          NaN  \n",
      "265    8449834.0          NaN  \n",
      "\n",
      "[266 rows x 67 columns]\n"
     ]
    }
   ],
   "source": [
    "data2 = pd.read_csv(\"population_of_female.csv\", skiprows=4)\n",
    "df2 = data2.copy()\n",
    "print(df2)"
   ]
  },
  {
   "attachments": {},
   "cell_type": "markdown",
   "metadata": {},
   "source": [
    "Q1. Create a column named “average_rate” in “primary_completion_rate_female.csv” that\n",
    "contains the average (over time) completion rate."
   ]
  },
  {
   "cell_type": "code",
   "execution_count": 72,
   "metadata": {},
   "outputs": [],
   "source": [
    "df1['average_rate'] = df1.mean(axis=1,numeric_only=True)"
   ]
  },
  {
   "cell_type": "code",
   "execution_count": 73,
   "metadata": {},
   "outputs": [
    {
     "name": "stdout",
     "output_type": "stream",
     "text": [
      "                  Country Name Country Code  \\\n",
      "0                        Aruba          ABW   \n",
      "1  Africa Eastern and Southern          AFE   \n",
      "2                  Afghanistan          AFG   \n",
      "3   Africa Western and Central          AFW   \n",
      "4                       Angola          AGO   \n",
      "\n",
      "                                      Indicator Name     Indicator Code  1960  \\\n",
      "0  Primary completion rate, female (% of relevant...  SE.PRM.CMPT.FE.ZS   NaN   \n",
      "1  Primary completion rate, female (% of relevant...  SE.PRM.CMPT.FE.ZS   NaN   \n",
      "2  Primary completion rate, female (% of relevant...  SE.PRM.CMPT.FE.ZS   NaN   \n",
      "3  Primary completion rate, female (% of relevant...  SE.PRM.CMPT.FE.ZS   NaN   \n",
      "4  Primary completion rate, female (% of relevant...  SE.PRM.CMPT.FE.ZS   NaN   \n",
      "\n",
      "   1961  1962  1963  1964  1965  ...       2014       2015       2016  \\\n",
      "0   NaN   NaN   NaN   NaN   NaN  ...  101.55587        NaN        NaN   \n",
      "1   NaN   NaN   NaN   NaN   NaN  ...   66.26329  66.115013  66.932449   \n",
      "2   NaN   NaN   NaN   NaN   NaN  ...        NaN        NaN  63.604069   \n",
      "3   NaN   NaN   NaN   NaN   NaN  ...   64.65110  65.822060  66.608093   \n",
      "4   NaN   NaN   NaN   NaN   NaN  ...        NaN        NaN        NaN   \n",
      "\n",
      "        2017       2018       2019       2020  2021  Unnamed: 66  average_rate  \n",
      "0        NaN        NaN        NaN        NaN   NaN          NaN     96.203056  \n",
      "1  68.167793  69.499100  69.990547  70.825378   NaN          NaN     52.899081  \n",
      "2  66.688881  67.129303  65.761513        NaN   NaN          NaN     28.085734  \n",
      "3  66.362289  66.722878  66.927361  67.231689   NaN          NaN     54.108691  \n",
      "4        NaN        NaN        NaN        NaN   NaN          NaN     34.111267  \n",
      "\n",
      "[5 rows x 68 columns]\n"
     ]
    }
   ],
   "source": [
    "print(df1.head())"
   ]
  },
  {
   "cell_type": "code",
   "execution_count": 74,
   "metadata": {},
   "outputs": [
    {
     "name": "stdout",
     "output_type": "stream",
     "text": [
      "0      96.203056\n",
      "1      52.899081\n",
      "2      28.085734\n",
      "3      54.108691\n",
      "4      34.111267\n",
      "         ...    \n",
      "261          NaN\n",
      "262    48.823942\n",
      "263    88.622194\n",
      "264    67.949980\n",
      "265    91.649270\n",
      "Name: average_rate, Length: 266, dtype: float64\n"
     ]
    }
   ],
   "source": [
    "print(df1['average_rate'])"
   ]
  },
  {
   "attachments": {},
   "cell_type": "markdown",
   "metadata": {},
   "source": [
    "Q2. Create a column named “Latest Population” in “population_of_female.csv” that contains the\n",
    "latest population of females in the country."
   ]
  },
  {
   "cell_type": "code",
   "execution_count": 75,
   "metadata": {},
   "outputs": [],
   "source": [
    "df2[\"Latest Population\"] = df2['2021']"
   ]
  },
  {
   "cell_type": "code",
   "execution_count": 76,
   "metadata": {},
   "outputs": [
    {
     "name": "stdout",
     "output_type": "stream",
     "text": [
      "                  Country Name Country Code      Indicator Name  \\\n",
      "0                        Aruba          ABW  Population, female   \n",
      "1  Africa Eastern and Southern          AFE  Population, female   \n",
      "2                  Afghanistan          AFG  Population, female   \n",
      "3   Africa Western and Central          AFW  Population, female   \n",
      "4                       Angola          AGO  Population, female   \n",
      "\n",
      "      Indicator Code        1960        1961        1962        1963  \\\n",
      "0  SP.POP.TOTL.FE.IN     27773.0     28380.0     28820.0     29218.0   \n",
      "1  SP.POP.TOTL.FE.IN  65853220.0  67606287.0  69457112.0  71375643.0   \n",
      "2  SP.POP.TOTL.FE.IN   4145945.0   4233771.0   4326881.0   4424511.0   \n",
      "3  SP.POP.TOTL.FE.IN  48802898.0  49850088.0  50928609.0  52044907.0   \n",
      "4  SP.POP.TOTL.FE.IN   2670229.0   2704394.0   2742689.0   2779473.0   \n",
      "\n",
      "         1964        1965  ...         2014         2015         2016  \\\n",
      "0     29570.0     29875.0  ...      54403.0      54828.0      55224.0   \n",
      "1  73386167.0  75478396.0  ...  295088995.0  303195759.0  311387262.0   \n",
      "2   4526691.0   4634341.0  ...   16172321.0   16682054.0   17115346.0   \n",
      "3  53196730.0  54389295.0  ...  198163527.0  203513873.0  208980433.0   \n",
      "4   2812590.0   2838939.0  ...   13746371.0   14248799.0   14764575.0   \n",
      "\n",
      "          2017         2018         2019         2020         2021  \\\n",
      "0      55591.0      55935.0      56254.0      56373.0      56330.0   \n",
      "1  319637226.0  328158974.0  336930831.0  345889729.0  354855082.0   \n",
      "2   17614722.0   18136922.0   18679089.0   19279930.0   19844584.0   \n",
      "3  214578994.0  220253839.0  226004857.0  231877590.0  237813580.0   \n",
      "4   15293335.0   15828040.0   16370553.0   16910989.0   17452283.0   \n",
      "\n",
      "   Unnamed: 66  Latest Population  \n",
      "0          NaN            56330.0  \n",
      "1          NaN        354855082.0  \n",
      "2          NaN         19844584.0  \n",
      "3          NaN        237813580.0  \n",
      "4          NaN         17452283.0  \n",
      "\n",
      "[5 rows x 68 columns]\n"
     ]
    }
   ],
   "source": [
    "print(df2.head())"
   ]
  },
  {
   "cell_type": "code",
   "execution_count": 77,
   "metadata": {},
   "outputs": [
    {
     "name": "stdout",
     "output_type": "stream",
     "text": [
      "0          56330.0\n",
      "1      354855082.0\n",
      "2       19844584.0\n",
      "3      237813580.0\n",
      "4       17452283.0\n",
      "          ...     \n",
      "261       895801.0\n",
      "262     16313210.0\n",
      "263     30497646.0\n",
      "264      9864121.0\n",
      "265      8449834.0\n",
      "Name: Latest Population, Length: 266, dtype: float64\n"
     ]
    }
   ],
   "source": [
    "print(df2['Latest Population'])"
   ]
  },
  {
   "attachments": {},
   "cell_type": "markdown",
   "metadata": {},
   "source": [
    "Q3. What is the weighted average of primary rates of different countries? The weight should be the\n",
    "Latest population of females in the country."
   ]
  },
  {
   "cell_type": "code",
   "execution_count": 78,
   "metadata": {},
   "outputs": [
    {
     "name": "stdout",
     "output_type": "stream",
     "text": [
      "weighted mean:  77.01066757323034\n"
     ]
    }
   ],
   "source": [
    "#  Weighted mean\n",
    "tmp1=(df1[\"average_rate\"]*df2[\"Latest Population\"])\n",
    "#print(tmp1)\n",
    "tmp2=tmp1/df2[\"Latest Population\"].sum()\n",
    "weighted_mean=tmp2.sum()\n",
    "print(\"weighted mean: \", weighted_mean)"
   ]
  },
  {
   "attachments": {},
   "cell_type": "markdown",
   "metadata": {},
   "source": [
    "Q4. What is the Median of average primary completion rate?"
   ]
  },
  {
   "cell_type": "code",
   "execution_count": 79,
   "metadata": {},
   "outputs": [
    {
     "name": "stdout",
     "output_type": "stream",
     "text": [
      "average primary completion rate:  90.96608239251218\n"
     ]
    }
   ],
   "source": [
    "print(\"average primary completion rate: \", df1['average_rate'].median())"
   ]
  },
  {
   "attachments": {},
   "cell_type": "markdown",
   "metadata": {},
   "source": [
    "Q5. What is the InterQuartile Range of average primary completion rate?"
   ]
  },
  {
   "cell_type": "code",
   "execution_count": 80,
   "metadata": {},
   "outputs": [
    {
     "name": "stdout",
     "output_type": "stream",
     "text": [
      "IQR of average primary completion rate:  29.470233932195967\n"
     ]
    }
   ],
   "source": [
    "IQR=df1[\"average_rate\"].quantile(0.75)-df1[\"average_rate\"].quantile(0.25)\n",
    "print(\"IQR of average primary completion rate: \", IQR)"
   ]
  },
  {
   "attachments": {},
   "cell_type": "markdown",
   "metadata": {},
   "source": [
    "Q6. What is the Variance of average primary completion rate?"
   ]
  },
  {
   "cell_type": "code",
   "execution_count": 81,
   "metadata": {},
   "outputs": [
    {
     "name": "stdout",
     "output_type": "stream",
     "text": [
      "Variance of average primary completion rate:  512.9310266943032\n"
     ]
    }
   ],
   "source": [
    "print(\"Variance of average primary completion rate: \", df1['average_rate'].var())"
   ]
  }
 ],
 "metadata": {
  "kernelspec": {
   "display_name": "Python 3",
   "language": "python",
   "name": "python3"
  },
  "language_info": {
   "codemirror_mode": {
    "name": "ipython",
    "version": 3
   },
   "file_extension": ".py",
   "mimetype": "text/x-python",
   "name": "python",
   "nbconvert_exporter": "python",
   "pygments_lexer": "ipython3",
   "version": "3.9.6"
  },
  "orig_nbformat": 4
 },
 "nbformat": 4,
 "nbformat_minor": 2
}
