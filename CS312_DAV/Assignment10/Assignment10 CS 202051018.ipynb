{
 "cells": [
  {
   "attachments": {},
   "cell_type": "markdown",
   "metadata": {},
   "source": [
    "### CS/IT 312 : Data Analytics and Visualization\n",
    "### Assignment 10 | AKSHAY | 202051018"
   ]
  },
  {
   "cell_type": "code",
   "execution_count": 1,
   "metadata": {},
   "outputs": [],
   "source": [
    "import pandas as pd\n",
    "from scipy.stats import ttest_ind, chi2_contingency"
   ]
  },
  {
   "cell_type": "code",
   "execution_count": 2,
   "metadata": {},
   "outputs": [],
   "source": [
    "data1 = pd.read_csv('cookie_cats.csv')"
   ]
  },
  {
   "cell_type": "code",
   "execution_count": 3,
   "metadata": {},
   "outputs": [
    {
     "name": "stdout",
     "output_type": "stream",
     "text": [
      "t-statistic: 0.8910426211362967\n",
      "p-value: 0.37290868247405207\n"
     ]
    }
   ],
   "source": [
    "cookie_cats = pd.read_csv('cookie_cats.csv')\n",
    "\n",
    "# Split the data into two groups based on gate level\n",
    "gate_30 = cookie_cats[cookie_cats['version'] == 'gate_30']['sum_gamerounds']\n",
    "gate_40 = cookie_cats[cookie_cats['version'] == 'gate_40']['sum_gamerounds']\n",
    "\n",
    "# Perform a two-sample t-test\n",
    "t_stat, p_val = ttest_ind(gate_30, gate_40, equal_var=True)\n",
    "\n",
    "# Print the results\n",
    "print('t-statistic:', t_stat)\n",
    "print('p-value:', p_val)"
   ]
  },
  {
   "cell_type": "code",
   "execution_count": 4,
   "metadata": {},
   "outputs": [
    {
     "name": "stdout",
     "output_type": "stream",
     "text": [
      "The observed difference between the groups may be due to chance or random variation, \n",
      "    and we cannot confidently conclude that it is due to the level at which the gate was presented.\n"
     ]
    }
   ],
   "source": [
    "if p_val < 0.05:\n",
    "    print(\"\"\"We can conclude that the difference we observed between the groups is not due to chance and \n",
    "    is likely due to some underlying factor, such as the level at which the gate was presented to users.\"\"\")\n",
    "else:\n",
    "    print(\"\"\"The observed difference between the groups may be due to chance or random variation, \n",
    "    and we cannot confidently conclude that it is due to the level at which the gate was presented.\"\"\")"
   ]
  },
  {
   "cell_type": "code",
   "execution_count": 5,
   "metadata": {},
   "outputs": [],
   "source": [
    "data2 = pd.read_csv('IPL_Auction_2022_FullList.csv')"
   ]
  },
  {
   "cell_type": "code",
   "execution_count": 7,
   "metadata": {},
   "outputs": [
    {
     "name": "stdout",
     "output_type": "stream",
     "text": [
      "Batting       LHB  RHB\n",
      "Specialism            \n",
      "ALL-ROUNDER    75  152\n",
      "BATSMAN        36   66\n",
      "BOWLER         50  152\n",
      "WICKETKEEPER   13   45\n"
     ]
    }
   ],
   "source": [
    "# Create contingency table for Specialism vs Batting\n",
    "contingency_table = pd.crosstab(data2['Specialism'], data2['Batting'])\n",
    "\n",
    "# Print the contingency table\n",
    "print(contingency_table)"
   ]
  },
  {
   "cell_type": "code",
   "execution_count": 8,
   "metadata": {},
   "outputs": [
    {
     "name": "stdout",
     "output_type": "stream",
     "text": [
      "Chi-square statistic: 6.59765745047411\n",
      "P-value: 0.08588968354832202\n",
      "Degrees of freedom: 3\n",
      "Expected values: [[ 67.05942275 159.94057725]\n",
      " [ 30.13242784  71.86757216]\n",
      " [ 59.67402377 142.32597623]\n",
      " [ 17.13412564  40.86587436]]\n"
     ]
    }
   ],
   "source": [
    "# Perform chi-square test on the contingency table\n",
    "chi2, p_value, dof, expected = chi2_contingency(contingency_table)\n",
    "\n",
    "# Print the test results\n",
    "print('Chi-square statistic:', chi2)\n",
    "print('P-value:', p_value)\n",
    "print('Degrees of freedom:', dof)\n",
    "print('Expected values:', expected)"
   ]
  }
 ],
 "metadata": {
  "kernelspec": {
   "display_name": "Python 3",
   "language": "python",
   "name": "python3"
  },
  "language_info": {
   "codemirror_mode": {
    "name": "ipython",
    "version": 3
   },
   "file_extension": ".py",
   "mimetype": "text/x-python",
   "name": "python",
   "nbconvert_exporter": "python",
   "pygments_lexer": "ipython3",
   "version": "3.9.6"
  },
  "orig_nbformat": 4
 },
 "nbformat": 4,
 "nbformat_minor": 2
}
